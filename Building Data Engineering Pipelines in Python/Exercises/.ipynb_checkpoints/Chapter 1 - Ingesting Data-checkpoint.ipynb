{
 "cells": [
  {
   "cell_type": "markdown",
   "metadata": {},
   "source": [
    "# Building Data Engineering Pipelines in Python"
   ]
  },
  {
   "cell_type": "markdown",
   "metadata": {},
   "source": [
    "## Ingesting Data\n",
    "After seeing this chapter, you will be able to explain what a data platform is, how data ends up in it, and how data engineers structure its foundations. You will be able to ingest data from a RESTful API into the data platform’s data lake using a self-written ingestion pipeline, made using Singer’s taps and targets."
   ]
  },
  {
   "cell_type": "markdown",
   "metadata": {},
   "source": [
    "### Dashboards providing business value\n",
    "In the video exercise, you saw how a data lake is comprised of several zones. The landing zone contains raw data, the clean zone contains clean data, and the business zone contains domain-specific data, usually related to solving business problems.\n",
    "\n",
    "If a dashboard had to be built showing a sales forecast based on the inventory of a warehouse, where would this dashboard get its data from?\n",
    "\n",
    "- [ ] From the warehouse management tool\n",
    "- [ ] From the landing zone\n",
    "- [ ] From the clean zone\n",
    "- [x] From the business zone"
   ]
  },
  {
   "cell_type": "markdown",
   "metadata": {},
   "source": [
    "### Snapshots in a data lake\n",
    "In some cases, access to the data lake is provided in the form of a file system, which can be mapped transparently to your working machine. In this exercise, the data lake is available to you under ~/workspace/mnt/data_lake. Find out what data file is currently in the business layer, using the commands ls to list the contents of the directory you’re in and cd to change the directory you’re in.\n",
    "\n",
    "- [ ] Appreciation scores of a product, as a JSON file.\n",
    "- [ ] Appreciation scores of a product, as a SQL file.\n",
    "- [x] A snapshot of customer viewing behavior, in the form of a Parquet file.\n",
    "- [ ] A snapshot of customer viewing behavior, in the form of a CSV file."
   ]
  },
  {
   "cell_type": "markdown",
   "metadata": {},
   "source": []
  }
 ],
 "metadata": {
  "kernelspec": {
   "display_name": "Python 3",
   "language": "python",
   "name": "python3"
  },
  "language_info": {
   "codemirror_mode": {
    "name": "ipython",
    "version": 3
   },
   "file_extension": ".py",
   "mimetype": "text/x-python",
   "name": "python",
   "nbconvert_exporter": "python",
   "pygments_lexer": "ipython3",
   "version": "3.8.5"
  }
 },
 "nbformat": 4,
 "nbformat_minor": 4
}
